{
 "cells": [
  {
   "cell_type": "code",
   "execution_count": 21,
   "metadata": {},
   "outputs": [],
   "source": [
    "coordinates = {\n",
    "\"AlbaniaTirana\": [+41.3317, +19.8172104],\n",
    "\"AndorralaVella\": [+42.5075, +1.52181409],\n",
    "\"AustriaVienna\": [+48.2092, +16.3728170],\n",
    "\"BelarusMinsk\": [+53.9678, +27.5766198],\n",
    "\"BelgiumBrussels\": [+50.8371, +4.367676],\n",
    "\"Bosnia&HerzegovinaSarajevo\": [+43.8608, +18.4214577],\n",
    "\"BulgariaSofia\": [+42.7105, +23.3238591],\n",
    "\"CroatiaZagreb\": [+45.8150, +15.9785130],\n",
    "\"CzechRepublicPrague\": [+50.0878, +14.4205244],\n",
    "\"DenmarkCopenhagen\": [+55.6763, +12.56810],\n",
    "\"EstoniaTallin\": [59.4389, +24.754537],\n",
    "\"FinlandHelsinki\": [+60.1699, +24.938425],\n",
    "\"FranceParis\": [+48.8567, +2.351034],\n",
    "\"GermanyBerlin\": [+52.5235, +13.411534],\n",
    "\"GreeceAthens\": [+37.9792, +23.7166153],\n",
    "\"HungaryBudapest\": [+47.4984, +19.0408102],\n",
    "\"IcelandReykjavik\": [+64.1353, -21.895215],\n",
    "\"IrelandDublin\": [+53.3441, -6.26758],\n",
    "\"ItalyRome\": [+41.8955, +12.482314],\n",
    "\"KosovoPristina\": [+42.6740,  +21.1788652],\n",
    "\"LatviaRiga\": [+56.9465, +24.10498],\n",
    "\"LithuaniaVilnius\": [+54.6896, +25.2799124],\n",
    "\"LuxembourgLuxembourg\": [+49.6100, +6.1296273],\n",
    "\"MaltaValletta\": [+35.9042, +14.51890],\n",
    "\"MoldovaChisinau\": [+47.0167, +28.849780],\n",
    "\"MontenegroPodgorica\": [+42.4602, +19.259561],\n",
    "\"NetherlandsAmsterdam\": [+52.3738, +4.89101],\n",
    "\"NorthMacedoniaSkopje\": [+42.0024, +21.4361243],\n",
    "\"NorwayOslo\": [+59.9138, +10.738712],\n",
    "\"PolandWarsaw\": [+52.2297, +21.012293],\n",
    "\"PortugalLisbon\": [+38.7072, -9.135515],\n",
    "\"RomaniaBucharest\": [+44.4479, +26.097970],\n",
    "\"RussiaMoscow\": [+55.7558, +37.6176124],\n",
    "\"SanMarinoSanMarino\": [+43.9424, +12.4578328],\n",
    "\"SerbiaBelgrade\": [+44.8048, +20.4781116],\n",
    "\"SlovakiaBratislava\": [+48.2116, +17.1547131],\n",
    "\"SloveniaLjubljana\": [+46.0514, +14.5060281],\n",
    "\"SwedenStockholm\": [+59.3328, +18.064515],\n",
    "\"SwitzerlandBern\": [+46.9480, +7.4481513],\n",
    "\"UkraineKiev\": [+50.4422, +30.5367168],\n",
    "\"UnitedKingdomLondon\": [+51.5002, -0.126214]\n",
    "}\n",
    "\n",
    "#\"SpainMadrid\": [+40.4167, -3.7033588]\n",
    "\n",
    "\n",
    "current = [+40.4167, -3.7033588]              #SpainMadrid\n",
    "homecoordinates = [+40.4167, -3.7033588]\n",
    "\n",
    "\n"
   ]
  },
  {
   "cell_type": "code",
   "execution_count": 22,
   "metadata": {},
   "outputs": [],
   "source": [
    "import haversine as hs\n",
    "\n",
    "def next_city(current, availablecities):\n",
    "    \n",
    "    l = []\n",
    "\n",
    "    for i in availablecities:\n",
    "        d = hs.haversine(current, availablecities[i])\n",
    "        l.append(d)\n",
    "\n",
    "\n",
    "    \n",
    "\n",
    "    min_distance = l[0]\n",
    "    min_index = 0\n",
    "\n",
    "    for i, distance in enumerate(l):\n",
    "        if distance < min_distance:\n",
    "            min_distance = distance\n",
    "            min_index = i\n",
    "                \n",
    "    \n",
    "    \n",
    "    \n",
    "    closestcity = list(availablecities.keys())[min_index]\n",
    "\n",
    "    current = closestcity\n",
    "\n",
    "    print(current)\n",
    "    \n",
    "    \n",
    "    \n",
    "    availablecities.pop(closestcity)\n",
    "    \n",
    "    return (coordinates[current], availablecities, min_distance)\n",
    "\n",
    "\n",
    "def return_home(current, homecoordinates):\n",
    "    returndistance = hs.haversine(current, homecoordinates)\n",
    "    \n",
    "    return returndistance\n",
    "\n",
    "\n",
    "    \n",
    "    \n",
    "    \n"
   ]
  },
  {
   "cell_type": "code",
   "execution_count": 24,
   "metadata": {},
   "outputs": [
    {
     "name": "stdout",
     "output_type": "stream",
     "text": [
      "AndorralaVella\n",
      "SwitzerlandBern\n",
      "LuxembourgLuxembourg\n",
      "BelgiumBrussels\n",
      "NetherlandsAmsterdam\n",
      "UnitedKingdomLondon\n",
      "FranceParis\n",
      "IrelandDublin\n",
      "DenmarkCopenhagen\n",
      "GermanyBerlin\n",
      "CzechRepublicPrague\n",
      "AustriaVienna\n",
      "SlovakiaBratislava\n",
      "HungaryBudapest\n",
      "CroatiaZagreb\n",
      "SloveniaLjubljana\n",
      "SanMarinoSanMarino\n",
      "ItalyRome\n",
      "Bosnia&HerzegovinaSarajevo\n",
      "MontenegroPodgorica\n",
      "AlbaniaTirana\n",
      "NorthMacedoniaSkopje\n",
      "KosovoPristina\n",
      "BulgariaSofia\n",
      "RomaniaBucharest\n",
      "MoldovaChisinau\n",
      "UkraineKiev\n",
      "BelarusMinsk\n",
      "LithuaniaVilnius\n",
      "LatviaRiga\n",
      "EstoniaTallin\n",
      "FinlandHelsinki\n",
      "SwedenStockholm\n",
      "NorwayOslo\n",
      "PolandWarsaw\n",
      "SerbiaBelgrade\n",
      "GreeceAthens\n",
      "MaltaValletta\n",
      "PortugalLisbon\n",
      "IcelandReykjavik\n",
      "RussiaMoscow\n"
     ]
    }
   ],
   "source": [
    "city_dict = coordinates.copy()\n",
    "\n",
    "\n",
    "\n",
    "total_distance = 0 \n",
    "\n",
    "for i in range (len(coordinates)):\n",
    "    \n",
    "   \n",
    "    current, city_dict, min_distance = next_city(current,city_dict)\n",
    "    \n",
    "    total_distance = total_distance + min_distance\n",
    "    \n",
    "\n",
    "totaldistancehome = total_distance + return_home(current, homecoordinates)\n",
    "\n",
    "print(totaldistancehome)"
   ]
  },
  {
   "cell_type": "code",
   "execution_count": 25,
   "metadata": {},
   "outputs": [
    {
     "name": "stdout",
     "output_type": "stream",
     "text": [
      "22848.668941014403\n"
     ]
    }
   ],
   "source": []
  },
  {
   "cell_type": "code",
   "execution_count": 26,
   "metadata": {},
   "outputs": [],
   "source": []
  },
  {
   "cell_type": "code",
   "execution_count": 27,
   "metadata": {},
   "outputs": [
    {
     "name": "stdout",
     "output_type": "stream",
     "text": [
      "26289.01809916099\n"
     ]
    }
   ],
   "source": []
  },
  {
   "cell_type": "code",
   "execution_count": null,
   "metadata": {},
   "outputs": [],
   "source": []
  }
 ],
 "metadata": {
  "kernelspec": {
   "display_name": "Python 3",
   "language": "python",
   "name": "python3"
  },
  "language_info": {
   "codemirror_mode": {
    "name": "ipython",
    "version": 3
   },
   "file_extension": ".py",
   "mimetype": "text/x-python",
   "name": "python",
   "nbconvert_exporter": "python",
   "pygments_lexer": "ipython3",
   "version": "3.8.3"
  }
 },
 "nbformat": 4,
 "nbformat_minor": 4
}
