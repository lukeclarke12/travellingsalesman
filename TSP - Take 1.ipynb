{
 "cells": [
  {
   "cell_type": "code",
   "execution_count": 44,
   "metadata": {},
   "outputs": [],
   "source": [
    "coordinates = {\n",
    "\"AlbaniaTirana\": [+41.3317, +19.8172104],\n",
    "\"AndorralaVella\": [+42.5075, +1.52181409],\n",
    "\"AustriaVienna\": [+48.2092, +16.3728170],\n",
    "\"BelarusMinsk\": [+53.9678, +27.5766198],\n",
    "\"BelgiumBrussels\": [+50.8371, +4.367676],\n",
    "\"Bosnia&HerzegovinaSarajevo\": [+43.8608, +18.4214577],\n",
    "\"BulgariaSofia\": [+42.7105, +23.3238591],\n",
    "\"CroatiaZagreb\": [+45.8150, +15.9785130],\n",
    "\"CzechRepublicPrague\": [+50.0878, +14.4205244],\n",
    "\"DenmarkCopenhagen\": [+55.6763, +12.56810],\n",
    "\"EstoniaTallin\": [59.4389, +24.754537],\n",
    "\"FinlandHelsinki\": [+60.1699, +24.938425],\n",
    "\"FranceParis\": [+48.8567, +2.351034],\n",
    "\"GermanyBerlin\": [+52.5235, +13.411534],\n",
    "\"GreeceAthens\": [+37.9792, +23.7166153],\n",
    "\"HungaryBudapest\": [+47.4984, +19.0408102],\n",
    "\"IcelandReykjavik\": [+64.1353, -21.895215],\n",
    "\"IrelandDublin\": [+53.3441, -6.26758],\n",
    "\"ItalyRome\": [+41.8955, +12.482314],\n",
    "\"KosovoPristina\": [+42.6740,  +21.1788652],\n",
    "\"LatviaRiga\": [+56.9465, +24.10498],\n",
    "\"LithuaniaVilnius\": [+54.6896, +25.2799124],\n",
    "\"LuxembourgLuxembourg\": [+49.6100, +6.1296273],\n",
    "\"MaltaValletta\": [+35.9042, +14.51890],\n",
    "\"MoldovaChisinau\": [+47.0167, +28.849780],\n",
    "\"MontenegroPodgorica\": [+42.4602, +19.259561],\n",
    "\"NetherlandsAmsterdam\": [+52.3738, +4.89101],\n",
    "\"NorthMacedoniaSkopje\": [+42.0024, +21.4361243],\n",
    "\"NorwayOslo\": [+59.9138, +10.738712],\n",
    "\"PolandWarsaw\": [+52.2297, +21.012293],\n",
    "\"PortugalLisbon\": [+38.7072, -9.135515],\n",
    "\"RomaniaBucharest\": [+44.4479, +26.097970],\n",
    "\"RussiaMoscow\": [+55.7558, +37.6176124],\n",
    "\"SanMarinoSanMarino\": [+43.9424, +12.4578328],\n",
    "\"SerbiaBelgrade\": [+44.8048, +20.4781116],\n",
    "\"SlovakiaBratislava\": [+48.2116, +17.1547131],\n",
    "\"SloveniaLjubljana\": [+46.0514, +14.5060281],\n",
    "\"SwedenStockholm\": [+59.3328, +18.064515],\n",
    "\"SwitzerlandBern\": [+46.9480, +7.4481513],\n",
    "\"UkraineKiev\": [+50.4422, +30.5367168],\n",
    "\"UnitedKingdomLondon\": [+51.5002, -0.126214]\n",
    "}\n",
    "\n",
    "#\"SpainMadrid\": [+40.4167, -3.7033588]\n"
   ]
  },
  {
   "cell_type": "code",
   "execution_count": 45,
   "metadata": {},
   "outputs": [],
   "source": [
    "import haversine as hs\n",
    "\n",
    "def next_city(current, availablecities):\n",
    "    c = 0 \n",
    "    l = []\n",
    "\n",
    "    for i in availablecities:\n",
    "        d = hs.haversine(current, availablecities[i])\n",
    "        l.append(d)\n",
    "\n",
    "\n",
    "    \n",
    "\n",
    "    min_distance = l[0]\n",
    "    min_index = 0\n",
    "\n",
    "    for i, distance in enumerate(l):\n",
    "        if distance < min_distance:\n",
    "            min_distance = distance\n",
    "            min_index = i\n",
    "                \n",
    "    \n",
    "    \n",
    "    \n",
    "    closestcity = list(availablecities.keys())[min_index]\n",
    "\n",
    "    current = closestcity\n",
    "\n",
    "    print(current)\n",
    "    \n",
    "    \n",
    "    \n",
    "    availablecities.pop(closestcity)\n",
    "    \n",
    "    return (coordinates[current], availablecities, min_distance)\n",
    "\n",
    "\n",
    "def return_home(current, homecoordinates):\n",
    "    returndistance = hs.haversine(current, homecoordinates)\n",
    "    \n",
    "    return returndistance\n",
    "\n",
    "\n",
    "    \n",
    "    \n",
    "    \n"
   ]
  },
  {
   "cell_type": "code",
   "execution_count": 46,
   "metadata": {},
   "outputs": [
    {
     "data": {
      "text/plain": [
       "{'AlbaniaTirana': [41.3317, 19.8172104],\n",
       " 'AndorralaVella': [42.5075, 1.52181409],\n",
       " 'AustriaVienna': [48.2092, 16.372817],\n",
       " 'BelarusMinsk': [53.9678, 27.5766198],\n",
       " 'BelgiumBrussels': [50.8371, 4.367676],\n",
       " 'Bosnia&HerzegovinaSarajevo': [43.8608, 18.4214577],\n",
       " 'BulgariaSofia': [42.7105, 23.3238591],\n",
       " 'CroatiaZagreb': [45.815, 15.978513],\n",
       " 'CzechRepublicPrague': [50.0878, 14.4205244],\n",
       " 'DenmarkCopenhagen': [55.6763, 12.5681],\n",
       " 'EstoniaTallin': [59.4389, 24.754537],\n",
       " 'FinlandHelsinki': [60.1699, 24.938425],\n",
       " 'FranceParis': [48.8567, 2.351034],\n",
       " 'GermanyBerlin': [52.5235, 13.411534],\n",
       " 'GreeceAthens': [37.9792, 23.7166153],\n",
       " 'HungaryBudapest': [47.4984, 19.0408102],\n",
       " 'IcelandReykjavik': [64.1353, -21.895215],\n",
       " 'IrelandDublin': [53.3441, -6.26758],\n",
       " 'ItalyRome': [41.8955, 12.482314],\n",
       " 'KosovoPristina': [42.674, 21.1788652],\n",
       " 'LatviaRiga': [56.9465, 24.10498],\n",
       " 'LithuaniaVilnius': [54.6896, 25.2799124],\n",
       " 'LuxembourgLuxembourg': [49.61, 6.1296273],\n",
       " 'MaltaValletta': [35.9042, 14.5189],\n",
       " 'MoldovaChisinau': [47.0167, 28.84978],\n",
       " 'MontenegroPodgorica': [42.4602, 19.259561],\n",
       " 'NetherlandsAmsterdam': [52.3738, 4.89101],\n",
       " 'NorthMacedoniaSkopje': [42.0024, 21.4361243],\n",
       " 'NorwayOslo': [59.9138, 10.738712],\n",
       " 'PolandWarsaw': [52.2297, 21.012293],\n",
       " 'PortugalLisbon': [38.7072, -9.135515],\n",
       " 'RomaniaBucharest': [44.4479, 26.09797],\n",
       " 'RussiaMoscow': [55.7558, 37.6176124],\n",
       " 'SanMarinoSanMarino': [43.9424, 12.4578328],\n",
       " 'SerbiaBelgrade': [44.8048, 20.4781116],\n",
       " 'SlovakiaBratislava': [48.2116, 17.1547131],\n",
       " 'SloveniaLjubljana': [46.0514, 14.5060281],\n",
       " 'SwedenStockholm': [59.3328, 18.064515],\n",
       " 'SwitzerlandBern': [46.948, 7.4481513],\n",
       " 'UkraineKiev': [50.4422, 30.5367168],\n",
       " 'UnitedKingdomLondon': [51.5002, -0.126214]}"
      ]
     },
     "execution_count": 46,
     "metadata": {},
     "output_type": "execute_result"
    }
   ],
   "source": [
    "current = [+40.4167, -3.7033588]\n",
    "homecoordinates = [+40.4167, -3.7033588]\n",
    "city_dict = coordinates.copy()\n",
    "\n",
    "\n",
    "city_dict\n",
    "\n",
    "\n",
    "\n"
   ]
  },
  {
   "cell_type": "code",
   "execution_count": 47,
   "metadata": {},
   "outputs": [
    {
     "data": {
      "text/plain": [
       "{'AlbaniaTirana': [41.3317, 19.8172104],\n",
       " 'AndorralaVella': [42.5075, 1.52181409],\n",
       " 'AustriaVienna': [48.2092, 16.372817],\n",
       " 'BelarusMinsk': [53.9678, 27.5766198],\n",
       " 'BelgiumBrussels': [50.8371, 4.367676],\n",
       " 'Bosnia&HerzegovinaSarajevo': [43.8608, 18.4214577],\n",
       " 'BulgariaSofia': [42.7105, 23.3238591],\n",
       " 'CroatiaZagreb': [45.815, 15.978513],\n",
       " 'CzechRepublicPrague': [50.0878, 14.4205244],\n",
       " 'DenmarkCopenhagen': [55.6763, 12.5681],\n",
       " 'EstoniaTallin': [59.4389, 24.754537],\n",
       " 'FinlandHelsinki': [60.1699, 24.938425],\n",
       " 'FranceParis': [48.8567, 2.351034],\n",
       " 'GermanyBerlin': [52.5235, 13.411534],\n",
       " 'GreeceAthens': [37.9792, 23.7166153],\n",
       " 'HungaryBudapest': [47.4984, 19.0408102],\n",
       " 'IcelandReykjavik': [64.1353, -21.895215],\n",
       " 'IrelandDublin': [53.3441, -6.26758],\n",
       " 'ItalyRome': [41.8955, 12.482314],\n",
       " 'KosovoPristina': [42.674, 21.1788652],\n",
       " 'LatviaRiga': [56.9465, 24.10498],\n",
       " 'LithuaniaVilnius': [54.6896, 25.2799124],\n",
       " 'LuxembourgLuxembourg': [49.61, 6.1296273],\n",
       " 'MaltaValletta': [35.9042, 14.5189],\n",
       " 'MoldovaChisinau': [47.0167, 28.84978],\n",
       " 'MontenegroPodgorica': [42.4602, 19.259561],\n",
       " 'NetherlandsAmsterdam': [52.3738, 4.89101],\n",
       " 'NorthMacedoniaSkopje': [42.0024, 21.4361243],\n",
       " 'NorwayOslo': [59.9138, 10.738712],\n",
       " 'PolandWarsaw': [52.2297, 21.012293],\n",
       " 'PortugalLisbon': [38.7072, -9.135515],\n",
       " 'RomaniaBucharest': [44.4479, 26.09797],\n",
       " 'RussiaMoscow': [55.7558, 37.6176124],\n",
       " 'SanMarinoSanMarino': [43.9424, 12.4578328],\n",
       " 'SerbiaBelgrade': [44.8048, 20.4781116],\n",
       " 'SlovakiaBratislava': [48.2116, 17.1547131],\n",
       " 'SloveniaLjubljana': [46.0514, 14.5060281],\n",
       " 'SwedenStockholm': [59.3328, 18.064515],\n",
       " 'SwitzerlandBern': [46.948, 7.4481513],\n",
       " 'UkraineKiev': [50.4422, 30.5367168],\n",
       " 'UnitedKingdomLondon': [51.5002, -0.126214]}"
      ]
     },
     "execution_count": 47,
     "metadata": {},
     "output_type": "execute_result"
    }
   ],
   "source": [
    "city_dict\n",
    "\n",
    "\n",
    "\n",
    "\n",
    "\n",
    "\n",
    "\n",
    "\n"
   ]
  },
  {
   "cell_type": "code",
   "execution_count": 48,
   "metadata": {},
   "outputs": [
    {
     "name": "stdout",
     "output_type": "stream",
     "text": [
      "AndorralaVella\n",
      "SwitzerlandBern\n",
      "LuxembourgLuxembourg\n",
      "BelgiumBrussels\n",
      "NetherlandsAmsterdam\n",
      "UnitedKingdomLondon\n",
      "FranceParis\n",
      "IrelandDublin\n",
      "DenmarkCopenhagen\n",
      "GermanyBerlin\n",
      "CzechRepublicPrague\n",
      "AustriaVienna\n",
      "SlovakiaBratislava\n",
      "HungaryBudapest\n",
      "CroatiaZagreb\n",
      "SloveniaLjubljana\n",
      "SanMarinoSanMarino\n",
      "ItalyRome\n",
      "Bosnia&HerzegovinaSarajevo\n",
      "MontenegroPodgorica\n",
      "AlbaniaTirana\n",
      "NorthMacedoniaSkopje\n",
      "KosovoPristina\n",
      "BulgariaSofia\n",
      "RomaniaBucharest\n",
      "MoldovaChisinau\n",
      "UkraineKiev\n",
      "BelarusMinsk\n",
      "LithuaniaVilnius\n",
      "LatviaRiga\n",
      "EstoniaTallin\n",
      "FinlandHelsinki\n",
      "SwedenStockholm\n",
      "NorwayOslo\n",
      "PolandWarsaw\n",
      "SerbiaBelgrade\n",
      "GreeceAthens\n",
      "MaltaValletta\n",
      "PortugalLisbon\n",
      "IcelandReykjavik\n",
      "RussiaMoscow\n"
     ]
    }
   ],
   "source": [
    "total_distance = 0 \n",
    "\n",
    "for i in range (len(coordinates)):\n",
    "    \n",
    "   \n",
    "    current, city_dict, min_distance = next_city(current,city_dict)\n",
    "    \n",
    "    total_distance = total_distance + min_distance\n",
    "    \n",
    "\n"
   ]
  },
  {
   "cell_type": "code",
   "execution_count": 49,
   "metadata": {},
   "outputs": [
    {
     "name": "stdout",
     "output_type": "stream",
     "text": [
      "22848.668941014403\n"
     ]
    }
   ],
   "source": [
    "print(total_distance)"
   ]
  },
  {
   "cell_type": "code",
   "execution_count": 50,
   "metadata": {},
   "outputs": [],
   "source": [
    "totaldistancehome = total_distance + return_home(current, homecoordinates)"
   ]
  },
  {
   "cell_type": "code",
   "execution_count": 51,
   "metadata": {},
   "outputs": [
    {
     "name": "stdout",
     "output_type": "stream",
     "text": [
      "26289.01809916099\n"
     ]
    }
   ],
   "source": [
    "print(totaldistancehome)"
   ]
  },
  {
   "cell_type": "code",
   "execution_count": 52,
   "metadata": {},
   "outputs": [],
   "source": [
    "from shapely.geometry import Point\n",
    "import geopandas as gpd\n",
    "from geopandas import GeoDataFrame"
   ]
  },
  {
   "cell_type": "code",
   "execution_count": 53,
   "metadata": {},
   "outputs": [
    {
     "data": {
      "image/png": "[encoded data removed]",
      "text/plain": [
       "<Figure size 2160x2160 with 1 Axes>"
      ]
     },
     "metadata": {
      "needs_background": "light"
     },
     "output_type": "display_data"
    }
   ],
   "source": [
    "df = pd.read_csv(\"Long_Lats.csv\", delimiter=',', skiprows=0, low_memory=False)\n",
    "\n",
    "geometry = [Point(xy) for xy in zip(df['Latitude'], df['Longitude'])]\n",
    "gdf = GeoDataFrame(df, geometry=geometry)   \n",
    "\n",
    "#this is a simple map that goes with geopandas\n",
    "world = gpd.read_file(gpd.datasets.get_path('naturalearth_lowres'))\n",
    "europe = (world.loc[world['continent'] == 'Europe'])\n",
    "\n",
    "gdf.plot(ax=europe.plot(figsize=(30, 30)), marker='o', color='red', markersize=50);"
   ]
  },
  {
   "cell_type": "code",
   "execution_count": null,
   "metadata": {},
   "outputs": [],
   "source": []
  },
  {
   "cell_type": "code",
   "execution_count": null,
   "metadata": {},
   "outputs": [],
   "source": []
  },
  {
   "cell_type": "code",
   "execution_count": null,
   "metadata": {},
   "outputs": [],
   "source": []
  }
 ],
 "metadata": {
  "kernelspec": {
   "display_name": "Python 3",
   "language": "python",
   "name": "python3"
  },
  "language_info": {
   "codemirror_mode": {
    "name": "ipython",
    "version": 3
   },
   "file_extension": ".py",
   "mimetype": "text/x-python",
   "name": "python",
   "nbconvert_exporter": "python",
   "pygments_lexer": "ipython3",
   "version": "3.8.3"
  }
 },
 "nbformat": 4,
 "nbformat_minor": 4
}
