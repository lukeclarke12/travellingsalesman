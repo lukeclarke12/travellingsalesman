{
 "cells": [
  {
   "cell_type": "code",
   "execution_count": 18,
   "metadata": {},
   "outputs": [],
   "source": [
    "import matplotlib.pyplot as plt\n",
    "import numpy as np\n",
    "\n",
    "# \"SpainMadrid\": [+40.4167, -3.7033588],\n",
    "\n",
    "coordinates = {\n",
    "\"AlbaniaTirana\": [+41.3317, +19.8172104],\n",
    "\"AndorralaVella\": [+42.5075, +1.52181409],\n",
    "\"AustriaVienna\": [+48.2092, +16.3728170],\n",
    "\"BelarusMinsk\": [+53.9678, +27.5766198],\n",
    "\"BelgiumBrussels\": [+50.8371, +4.367676],\n",
    "\"Bosnia&HerzegovinaSarajevo\": [+43.8608, +18.4214577],\n",
    "\"BulgariaSofia\": [+42.7105, +23.3238591],\n",
    "\"CroatiaZagreb\": [+5.8150, +15.9785130],\n",
    "\"CzechRepublicPrague\": [+50.0878, +14.4205244],\n",
    "\"DenmarkCopenhagen\": [+55.6763, +12.56810],\n",
    "\"EstoniaTallin\": [59.4389, +24.754537],\n",
    "\"FinlandHelsinki\": [+60.1699, +24.938425],\n",
    "\"FranceParis\": [+48.8567, +2.351034],\n",
    "\"GermanyBerlin\": [+52.5235, +13.411534],\n",
    "\"GreeceAthens\": [+37.9792, +23.7166153],\n",
    "\"HungaryBudapest\": [+47.4984, +19.0408102],\n",
    "\"IcelandReykjavik\": [+64.1353, -21.895215],\n",
    "\"IrelandDublin\": [+53.3441, -6.26758],\n",
    "\"ItalyRome\": [+41.8955, +12.482314],\n",
    "\"KosovoPristina\": [+42.6740,  +21.1788652],\n",
    "\"LatviaRiga\": [+56.9465, +24.10498],\n",
    "\"LithuaniaVilnius\": [+54.6896, +25.2799124],\n",
    "\"LuxembourgLuxembourg\": [+49.6100, +6.1296273],\n",
    "\"MaltaValletta\": [+35.9042, +14.51890],\n",
    "\"MoldovaChisinau\": [+47.0167, +28.849780],\n",
    "\"MontenegroPodgorica\": [+42.4602, +19.259561],\n",
    "\"NetherlandsAmsterdam\": [+52.3738, +4.89101],\n",
    "\"NorthMacedoniaSkopje\": [+42.0024, +21.4361243],\n",
    "\"NorwayOslo\": [+59.9138, +10.738712],\n",
    "\"PolandWarsaw\": [+52.2297, +21.012293],\n",
    "\"PortugalLisbon\": [+38.7072, -9.135515],\n",
    "\"RomaniaBucharest\": [+44.4479, +26.097970],\n",
    "\"RussiaMoscow\": [+55.7558, +37.6176124],\n",
    "\"SanMarinoSanMarino\": [+43.9424, +12.4578328],\n",
    "\"SerbiaBelgrade\": [+44.8048, +20.4781116],\n",
    "\"SlovakiaBratislava\": [+48.2116, +17.1547131],\n",
    "\"SloveniaLjubljana\": [+46.0514, +14.5060281],\n",
    "\"SwedenStockholm\": [+59.3328, +18.064515],\n",
    "\"SwitzerlandBern\": [+46.9480, +7.4481513],\n",
    "\"UkraineKiev\": [+50.4422, +30.5367168],\n",
    "\"UnitedKingdomLondon\": [+51.5002, -0.126214]\n",
    "}\n",
    "\n",
    "\n",
    "\n",
    "import numpy as np\n",
    "import matplotlib.pyplot as plt\n",
    "\n",
    "\n"
   ]
  },
  {
   "cell_type": "code",
   "execution_count": 129,
   "metadata": {},
   "outputs": [
    {
     "name": "stdout",
     "output_type": "stream",
     "text": [
      "Requirement already satisfied: haversine in c:\\users\\juanr\\anaconda3\\lib\\site-packages (2.3.0)\n",
      "BulgariaSofia\n",
      "{'BelarusMinsk': [53.9678, 27.5766198], 'CroatiaZagreb': [5.815, 15.978513], 'EstoniaTallin': [59.4389, 24.754537], 'FinlandHelsinki': [60.1699, 24.938425], 'GreeceAthens': [37.9792, 23.7166153], 'IcelandReykjavik': [64.1353, -21.895215], 'LatviaRiga': [56.9465, 24.10498], 'LithuaniaVilnius': [54.6896, 25.2799124], 'MoldovaChisinau': [47.0167, 28.84978], 'NorwayOslo': [59.9138, 10.738712], 'PolandWarsaw': [52.2297, 21.012293], 'RomaniaBucharest': [44.4479, 26.09797], 'RussiaMoscow': [55.7558, 37.6176124], 'SwedenStockholm': [59.3328, 18.064515], 'UkraineKiev': [50.4422, 30.5367168]}\n"
     ]
    }
   ],
   "source": [
    "!pip install haversine\n",
    "\n",
    "import haversine as hs\n",
    "\n",
    "l = []\n",
    "currentcity = [+40.4167, -3.7033588]\n",
    "\n",
    "\n",
    "for i in coordinates:\n",
    "\n",
    "    d = hs.haversine(currentcity, coordinates[i])\n",
    "    l.append(d)\n",
    "\n",
    "\n",
    "min_value = l[0]\n",
    "min_index = 0\n",
    "\n",
    "for i, value in enumerate(l):\n",
    "    if value < min_value:\n",
    "      min_value = value\n",
    "      min_index = i\n",
    "\n",
    "\n",
    "closestcity = list(coordinates.keys())[min_index]\n",
    "\n",
    "currentcity = closestcity\n",
    "\n",
    "print(currentcity)\n",
    "\n",
    "coordinates.pop(closestcity)\n",
    "\n",
    "print(coordinates)"
   ]
  },
  {
   "cell_type": "code",
   "execution_count": 96,
   "metadata": {},
   "outputs": [
    {
     "ename": "SyntaxError",
     "evalue": "invalid syntax (<ipython-input-96-d65ac9185831>, line 7)",
     "output_type": "error",
     "traceback": [
      "\u001b[1;36m  File \u001b[1;32m\"<ipython-input-96-d65ac9185831>\"\u001b[1;36m, line \u001b[1;32m7\u001b[0m\n\u001b[1;33m    coordinates.pop(closestcity)\u001b[0m\n\u001b[1;37m    ^\u001b[0m\n\u001b[1;31mSyntaxError\u001b[0m\u001b[1;31m:\u001b[0m invalid syntax\n"
     ]
    }
   ],
   "source": []
  },
  {
   "cell_type": "code",
   "execution_count": null,
   "metadata": {},
   "outputs": [],
   "source": []
  },
  {
   "cell_type": "code",
   "execution_count": null,
   "metadata": {},
   "outputs": [],
   "source": []
  }
 ],
 "metadata": {
  "kernelspec": {
   "display_name": "Python 3",
   "language": "python",
   "name": "python3"
  },
  "language_info": {
   "codemirror_mode": {
    "name": "ipython",
    "version": 3
   },
   "file_extension": ".py",
   "mimetype": "text/x-python",
   "name": "python",
   "nbconvert_exporter": "python",
   "pygments_lexer": "ipython3",
   "version": "3.8.3"
  }
 },
 "nbformat": 4,
 "nbformat_minor": 4
}
