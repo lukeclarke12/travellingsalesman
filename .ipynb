{
 "cells": [
  {
   "cell_type": "code",
   "execution_count": 123,
   "metadata": {},
   "outputs": [],
   "source": [
    "coordinates = {\n",
    "\"AlbaniaTirana\": [+41.3317, +19.8172104],\n",
    "\"AndorralaVella\": [+42.5075, +1.52181409],\n",
    "\"AustriaVienna\": [+48.2092, +16.3728170],\n",
    "\"BelarusMinsk\": [+53.9678, +27.5766198],\n",
    "\"BelgiumBrussels\": [+50.8371, +4.367676],\n",
    "\"Bosnia&HerzegovinaSarajevo\": [+43.8608, +18.4214577],\n",
    "\"BulgariaSofia\": [+42.7105, +23.3238591],\n",
    "\"CroatiaZagreb\": [+5.8150, +15.9785130],\n",
    "\"CzechRepublicPrague\": [+50.0878, +14.4205244],\n",
    "\"DenmarkCopenhagen\": [+55.6763, +12.56810],\n",
    "\"EstoniaTallin\": [59.4389, +24.754537],\n",
    "\"FinlandHelsinki\": [+60.1699, +24.938425],\n",
    "\"FranceParis\": [+48.8567, +2.351034],\n",
    "\"GermanyBerlin\": [+52.5235, +13.411534],\n",
    "\"GreeceAthens\": [+37.9792, +23.7166153],\n",
    "\"HungaryBudapest\": [+47.4984, +19.0408102],\n",
    "\"IcelandReykjavik\": [+64.1353, -21.895215],\n",
    "\"IrelandDublin\": [+53.3441, -6.26758],\n",
    "\"ItalyRome\": [+41.8955, +12.482314],\n",
    "\"KosovoPristina\": [+42.6740,  +21.1788652],\n",
    "\"LatviaRiga\": [+56.9465, +24.10498],\n",
    "\"LithuaniaVilnius\": [+54.6896, +25.2799124],\n",
    "\"LuxembourgLuxembourg\": [+49.6100, +6.1296273],\n",
    "\"MaltaValletta\": [+35.9042, +14.51890],\n",
    "\"MoldovaChisinau\": [+47.0167, +28.849780],\n",
    "\"MontenegroPodgorica\": [+42.4602, +19.259561],\n",
    "\"NetherlandsAmsterdam\": [+52.3738, +4.89101],\n",
    "\"NorthMacedoniaSkopje\": [+42.0024, +21.4361243],\n",
    "\"NorwayOslo\": [+59.9138, +10.738712],\n",
    "\"PolandWarsaw\": [+52.2297, +21.012293],\n",
    "\"PortugalLisbon\": [+38.7072, -9.135515],\n",
    "\"RomaniaBucharest\": [+44.4479, +26.097970],\n",
    "\"RussiaMoscow\": [+55.7558, +37.6176124],\n",
    "\"SanMarinoSanMarino\": [+43.9424, +12.4578328],\n",
    "\"SerbiaBelgrade\": [+44.8048, +20.4781116],\n",
    "\"SlovakiaBratislava\": [+48.2116, +17.1547131],\n",
    "\"SloveniaLjubljana\": [+46.0514, +14.5060281],\n",
    "\"SwedenStockholm\": [+59.3328, +18.064515],\n",
    "\"SwitzerlandBern\": [+46.9480, +7.4481513],\n",
    "\"UkraineKiev\": [+50.4422, +30.5367168],\n",
    "\"UnitedKingdomLondon\": [+51.5002, -0.126214]\n",
    "}\n",
    "\n",
    "\n"
   ]
  },
  {
   "cell_type": "code",
   "execution_count": 136,
   "metadata": {},
   "outputs": [],
   "source": [
    "import haversine as hs\n",
    "\n",
    "l = []\n",
    "\n",
    "currentcity = [+40.4167, -3.7033588]\n",
    "\n",
    "\n",
    "def next_city(current, availablecities):\n",
    "    c = 0\n",
    "    l = []\n",
    "\n",
    "    for i in availablecities:\n",
    "        d = hs.haversine(current, availablecities[i])\n",
    "        l.append(d)\n",
    "\n",
    "\n",
    "    \n",
    "\n",
    "    min_value = l[0]\n",
    "    min_index = 0\n",
    "\n",
    "    for i, value in enumerate(l):\n",
    "        if value < min_value:\n",
    "            min_value = value\n",
    "            min_index = i\n",
    "            c += i\n",
    "    \n",
    "    closestcity = list(availablecities.keys())[min_index]\n",
    "\n",
    "    current = closestcity\n",
    "\n",
    "    print(current)\n",
    "    \n",
    "    availablecities.pop(closestcity)\n",
    "    \n",
    "    return (coordinates[current], availablecities, c)\n",
    "\n",
    "\n"
   ]
  },
  {
   "cell_type": "code",
   "execution_count": null,
   "metadata": {},
   "outputs": [],
   "source": []
  },
  {
   "cell_type": "code",
   "execution_count": null,
   "metadata": {},
   "outputs": [],
   "source": []
  },
  {
   "cell_type": "code",
   "execution_count": 137,
   "metadata": {},
   "outputs": [],
   "source": [
    "current = [+40.4167, -3.7033588]\n",
    "city_dict = coordinates.copy()\n",
    "\n"
   ]
  },
  {
   "cell_type": "code",
   "execution_count": 138,
   "metadata": {},
   "outputs": [
    {
     "data": {
      "text/plain": [
       "{'AlbaniaTirana': [41.3317, 19.8172104],\n",
       " 'AndorralaVella': [42.5075, 1.52181409],\n",
       " 'AustriaVienna': [48.2092, 16.372817],\n",
       " 'BelarusMinsk': [53.9678, 27.5766198],\n",
       " 'BelgiumBrussels': [50.8371, 4.367676],\n",
       " 'Bosnia&HerzegovinaSarajevo': [43.8608, 18.4214577],\n",
       " 'BulgariaSofia': [42.7105, 23.3238591],\n",
       " 'CroatiaZagreb': [5.815, 15.978513],\n",
       " 'CzechRepublicPrague': [50.0878, 14.4205244],\n",
       " 'DenmarkCopenhagen': [55.6763, 12.5681],\n",
       " 'EstoniaTallin': [59.4389, 24.754537],\n",
       " 'FinlandHelsinki': [60.1699, 24.938425],\n",
       " 'FranceParis': [48.8567, 2.351034],\n",
       " 'GermanyBerlin': [52.5235, 13.411534],\n",
       " 'GreeceAthens': [37.9792, 23.7166153],\n",
       " 'HungaryBudapest': [47.4984, 19.0408102],\n",
       " 'IcelandReykjavik': [64.1353, -21.895215],\n",
       " 'IrelandDublin': [53.3441, -6.26758],\n",
       " 'ItalyRome': [41.8955, 12.482314],\n",
       " 'KosovoPristina': [42.674, 21.1788652],\n",
       " 'LatviaRiga': [56.9465, 24.10498],\n",
       " 'LithuaniaVilnius': [54.6896, 25.2799124],\n",
       " 'LuxembourgLuxembourg': [49.61, 6.1296273],\n",
       " 'MaltaValletta': [35.9042, 14.5189],\n",
       " 'MoldovaChisinau': [47.0167, 28.84978],\n",
       " 'MontenegroPodgorica': [42.4602, 19.259561],\n",
       " 'NetherlandsAmsterdam': [52.3738, 4.89101],\n",
       " 'NorthMacedoniaSkopje': [42.0024, 21.4361243],\n",
       " 'NorwayOslo': [59.9138, 10.738712],\n",
       " 'PolandWarsaw': [52.2297, 21.012293],\n",
       " 'PortugalLisbon': [38.7072, -9.135515],\n",
       " 'RomaniaBucharest': [44.4479, 26.09797],\n",
       " 'RussiaMoscow': [55.7558, 37.6176124],\n",
       " 'SanMarinoSanMarino': [43.9424, 12.4578328],\n",
       " 'SerbiaBelgrade': [44.8048, 20.4781116],\n",
       " 'SlovakiaBratislava': [48.2116, 17.1547131],\n",
       " 'SloveniaLjubljana': [46.0514, 14.5060281],\n",
       " 'SwedenStockholm': [59.3328, 18.064515],\n",
       " 'SwitzerlandBern': [46.948, 7.4481513],\n",
       " 'UkraineKiev': [50.4422, 30.5367168],\n",
       " 'UnitedKingdomLondon': [51.5002, -0.126214]}"
      ]
     },
     "execution_count": 138,
     "metadata": {},
     "output_type": "execute_result"
    }
   ],
   "source": [
    "city_dict"
   ]
  },
  {
   "cell_type": "code",
   "execution_count": 139,
   "metadata": {},
   "outputs": [
    {
     "name": "stdout",
     "output_type": "stream",
     "text": [
      "AndorralaVella\n"
     ]
    },
    {
     "ename": "ValueError",
     "evalue": "too many values to unpack (expected 2)",
     "output_type": "error",
     "traceback": [
      "\u001b[1;31m---------------------------------------------------------------------------\u001b[0m",
      "\u001b[1;31mValueError\u001b[0m                                Traceback (most recent call last)",
      "\u001b[1;32m<ipython-input-139-f02ccb229adc>\u001b[0m in \u001b[0;36m<module>\u001b[1;34m\u001b[0m\n\u001b[0;32m      2\u001b[0m \u001b[1;33m\u001b[0m\u001b[0m\n\u001b[0;32m      3\u001b[0m \u001b[1;33m\u001b[0m\u001b[0m\n\u001b[1;32m----> 4\u001b[1;33m     \u001b[0mcurrent\u001b[0m\u001b[1;33m,\u001b[0m \u001b[0mcity_dict\u001b[0m \u001b[1;33m=\u001b[0m \u001b[0mnext_city\u001b[0m\u001b[1;33m(\u001b[0m\u001b[0mcurrent\u001b[0m\u001b[1;33m,\u001b[0m\u001b[0mcity_dict\u001b[0m\u001b[1;33m)\u001b[0m\u001b[1;33m\u001b[0m\u001b[1;33m\u001b[0m\u001b[0m\n\u001b[0m",
      "\u001b[1;31mValueError\u001b[0m: too many values to unpack (expected 2)"
     ]
    }
   ],
   "source": [
    "for i in range (len(coordinates)):\n",
    "\n",
    "    \n",
    "    current, city_dict = next_city(current,city_dict)\n"
   ]
  },
  {
   "cell_type": "code",
   "execution_count": null,
   "metadata": {},
   "outputs": [],
   "source": []
  }
 ],
 "metadata": {
  "kernelspec": {
   "display_name": "Python 3",
   "language": "python",
   "name": "python3"
  },
  "language_info": {
   "codemirror_mode": {
    "name": "ipython",
    "version": 3
   },
   "file_extension": ".py",
   "mimetype": "text/x-python",
   "name": "python",
   "nbconvert_exporter": "python",
   "pygments_lexer": "ipython3",
   "version": "3.8.3"
  }
 },
 "nbformat": 4,
 "nbformat_minor": 4
}
